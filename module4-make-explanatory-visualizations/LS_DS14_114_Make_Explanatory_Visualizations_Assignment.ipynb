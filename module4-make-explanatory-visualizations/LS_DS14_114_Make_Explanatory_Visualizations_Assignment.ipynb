{
  "nbformat": 4,
  "nbformat_minor": 0,
  "metadata": {
    "colab": {
      "name": "LS_DS14_114_Make_Explanatory_Visualizations_Assignment.ipynb",
      "provenance": [],
      "collapsed_sections": [],
      "include_colab_link": true
    },
    "language_info": {
      "codemirror_mode": {
        "name": "ipython",
        "version": 3
      },
      "file_extension": ".py",
      "mimetype": "text/x-python",
      "name": "python",
      "nbconvert_exporter": "python",
      "pygments_lexer": "ipython3",
      "version": "3.7.1"
    },
    "kernelspec": {
      "display_name": "Python 3",
      "language": "python",
      "name": "python3"
    }
  },
  "cells": [
    {
      "cell_type": "markdown",
      "metadata": {
        "id": "view-in-github",
        "colab_type": "text"
      },
      "source": [
        "<a href=\"https://colab.research.google.com/github/ThomasMcDaniel91/DS-Unit-1-Sprint-1-Data-Wrangling-and-Storytelling/blob/master/module4-make-explanatory-visualizations/LS_DS14_114_Make_Explanatory_Visualizations_Assignment.ipynb\" target=\"_parent\"><img src=\"https://colab.research.google.com/assets/colab-badge.svg\" alt=\"Open In Colab\"/></a>"
      ]
    },
    {
      "cell_type": "markdown",
      "metadata": {
        "colab_type": "text",
        "id": "-8-trVo__vRE"
      },
      "source": [
        "Lambda School Data Science\n",
        "\n",
        "*Unit 1, Sprint 1, Module 4*\n",
        "\n",
        "---\n",
        "\n",
        "# Make Explanatory Visualizations\n",
        "\n",
        "### Objectives\n",
        "\n",
        "- identify misleading visualizations and how to fix them\n",
        "- use Seaborn to visualize distributions and relationships with continuous and discrete variables\n",
        "- add emphasis and annotations to transform visualizations from exploratory to explanatory\n",
        "- remove clutter from visualizations\n",
        "\n",
        "### Links\n",
        "\n",
        "- [How to Spot Visualization Lies](https://flowingdata.com/2017/02/09/how-to-spot-visualization-lies/)\n",
        "- [Visual Vocabulary - Vega Edition](http://ft.com/vocabulary)\n",
        "- [Choosing a Python Visualization Tool flowchart](http://pbpython.com/python-vis-flowchart.html)\n",
        "- [Searborn example gallery](http://seaborn.pydata.org/examples/index.html) & [tutorial](http://seaborn.pydata.org/tutorial.html)\n",
        "- [Strong Titles Are The Biggest Bang for Your Buck](http://stephanieevergreen.com/strong-titles/)\n",
        "- [Remove to improve (the data-ink ratio)](https://www.darkhorseanalytics.com/blog/data-looks-better-naked)\n",
        "- [How to Generate FiveThirtyEight Graphs in Python](https://www.dataquest.io/blog/making-538-plots/)"
      ]
    },
    {
      "cell_type": "markdown",
      "metadata": {
        "id": "s-24T844-8qv",
        "colab_type": "text"
      },
      "source": [
        "# Avoid Misleading Visualizations\n",
        "\n",
        "Did you find/discuss any interesting misleading visualizations in your Walkie Talkie?"
      ]
    },
    {
      "cell_type": "markdown",
      "metadata": {
        "id": "Qzxt9ntsNjs0",
        "colab_type": "text"
      },
      "source": [
        "## What makes a visualization misleading?\n",
        "\n",
        "[5 Ways Writers Use Misleading Graphs To Manipulate You](https://venngage.com/blog/misleading-graphs/)"
      ]
    },
    {
      "cell_type": "markdown",
      "metadata": {
        "id": "q7_DUiENNvxk",
        "colab_type": "text"
      },
      "source": [
        "## Two y-axes\n",
        "\n",
        "\n",
        "<img src=\"https://statmodeling.stat.columbia.edu/wp-content/uploads/2015/07/weight_loss.jpg\" width=\"600\" />\n",
        "\n",
        "<img src=\"https://images.squarespace-cdn.com/content/v1/55b6a6dce4b089e11621d3ed/1454365114450-D22FK1TYZLBB42HNXRDO/ke17ZwdGBToddI8pDm48kDsK5YsbpGZfNSW2QBy5nm97gQa3H78H3Y0txjaiv_0fDoOvxcdMmMKkDsyUqMSsMWxHk725yiiHCCLfrh8O1z5QHyNOqBUUEtDDsRWrJLTmK-rtDVyS8lrwwDyo1SUQ5jl829RLkS7biRysddeTZV4sk9Z7R_TILPNvJ5qwMz15/image-asset.jpeg\" width='600' />\n",
        "\n",
        " \n",
        " Other Examples: \n",
        " - [Spurious Correlations](https://tylervigen.com/spurious-correlations)\n",
        " - <https://blog.datawrapper.de/dualaxis/>\n",
        " - <https://kieranhealy.org/blog/archives/2016/01/16/two-y-axes/>\n",
        " - <http://www.storytellingwithdata.com/blog/2016/2/1/be-gone-dual-y-axis>"
      ]
    },
    {
      "cell_type": "markdown",
      "metadata": {
        "id": "oIijNBDMNv2k",
        "colab_type": "text"
      },
      "source": [
        "##  Y-axis doesn't start at zero.\n",
        "\n",
        "<img src=\"https://i.pinimg.com/originals/22/53/a9/2253a944f54bb61f1983bc076ff33cdd.jpg\" width=\"600\">"
      ]
    },
    {
      "cell_type": "markdown",
      "metadata": {
        "id": "ISB2p8vZNv6r",
        "colab_type": "text"
      },
      "source": [
        "## Pie Charts are bad\n",
        "\n",
        "<img src=\"https://i1.wp.com/flowingdata.com/wp-content/uploads/2009/11/Fox-News-pie-chart.png?fit=620%2C465&ssl=1\" width=\"600\">"
      ]
    },
    {
      "cell_type": "markdown",
      "metadata": {
        "id": "67CsAzu1NwBJ",
        "colab_type": "text"
      },
      "source": [
        "## Pie charts that omit data are extra bad\n",
        " \n",
        "- A guy makes a misleading chart that goes viral\n",
        "\n",
        " What does this chart imply at first glance? You don't want your user to have to do a lot of work in order to be able to interpret you graph correctly. You want that first-glance conclusions to be the correct ones.\n",
        "\n",
        " <img src=\"https://pbs.twimg.com/media/DiaiTLHWsAYAEEX?format=jpg&name=medium\" width='600'>\n",
        " \n",
        " <https://twitter.com/michaelbatnick/status/1019680856837849090?lang=en>\n",
        " \n",
        "- It gets picked up by overworked journalists (assuming incompetency before malice)\n",
        " \n",
        " <https://www.marketwatch.com/story/this-1-chart-puts-mega-techs-trillions-of-market-value-into-eye-popping-perspective-2018-07-18>\n",
        " \n",
        "- Even after the chart's implications have been refuted, it's hard a bad (although compelling) visualization from being passed around.\n",
        "\n",
        " <https://www.linkedin.com/pulse/good-bad-pie-charts-karthik-shashidhar/>\n",
        "\n",
        "**[\"yea I understand a pie chart was probably not the best choice to present this data.\"](https://twitter.com/michaelbatnick/status/1037036440494985216)**"
      ]
    },
    {
      "cell_type": "markdown",
      "metadata": {
        "id": "FYXmlToEOOTC",
        "colab_type": "text"
      },
      "source": [
        "## Pie Charts that compare unrelated things are next-level extra bad\n",
        "\n",
        "<img src=\"https://external-preview.redd.it/ypucZNrCJRcoa73V7eWq5qz6D4EhSkMONjH_ZiHAjkg.jpg?auto=webp&s=cf72fcdef271a6e056a149dd36846f987395cfca\" width=\"600\">\n"
      ]
    },
    {
      "cell_type": "markdown",
      "metadata": {
        "id": "IwtMQpY_QFUw",
        "colab_type": "text"
      },
      "source": [
        "## Be careful about how you use volume to represent quantities:\n",
        "\n",
        "radius vs diameter vs volume\n",
        "\n",
        "<img src=\"https://static1.squarespace.com/static/5bfc8dbab40b9d7dd9054f41/t/5c32d86e0ebbe80a25873249/1546836082961/5474039-25383714-thumbnail.jpg?format=1500w\" width=\"600\">"
      ]
    },
    {
      "cell_type": "markdown",
      "metadata": {
        "id": "tTuAWjSBRsc7",
        "colab_type": "text"
      },
      "source": [
        "## Don't cherrypick timelines or specific subsets of your data:\n",
        "\n",
        "<img src=\"https://wattsupwiththat.com/wp-content/uploads/2019/02/Figure-1-1.png\" width=\"600\">\n",
        "\n",
        "Look how specifically the writer has selected what years to show in the legend on the right side.\n",
        "\n",
        "<https://wattsupwiththat.com/2019/02/24/strong-arctic-sea-ice-growth-this-year/>\n",
        "\n",
        "Try the tool that was used to make the graphic for yourself\n",
        "\n",
        "<http://nsidc.org/arcticseaicenews/charctic-interactive-sea-ice-graph/>\n",
        "                                                                                           "
      ]
    },
    {
      "cell_type": "markdown",
      "metadata": {
        "id": "Xs13S7p4Srme",
        "colab_type": "text"
      },
      "source": [
        "## Use Relative units rather than Absolute Units\n",
        "\n",
        "<img src=\"https://imgs.xkcd.com/comics/heatmap_2x.png\" width=\"600\">"
      ]
    },
    {
      "cell_type": "markdown",
      "metadata": {
        "id": "CIMt5OiuTlrr",
        "colab_type": "text"
      },
      "source": [
        "## Avoid 3D graphs unless having the extra dimension is effective\n",
        "\n",
        "Usually you can Split 3D graphs into multiple 2D graphs\n",
        "\n",
        "3D graphs that are interactive can be very cool. (See Plotly and Bokeh)\n",
        "\n",
        "<img src=\"https://thumbor.forbes.com/thumbor/1280x868/https%3A%2F%2Fblogs-images.forbes.com%2Fthumbnails%2Fblog_1855%2Fpt_1855_811_o.jpg%3Ft%3D1339592470\" width=\"600\">"
      ]
    },
    {
      "cell_type": "markdown",
      "metadata": {
        "id": "GATMu9IqUlIj",
        "colab_type": "text"
      },
      "source": [
        "## Don't go against typical conventions\n",
        "\n",
        "<img src=\"http://www.callingbullshit.org/twittercards/tools_misleading_axes.png\" width=\"600\">"
      ]
    },
    {
      "cell_type": "markdown",
      "metadata": {
        "id": "g6bKgZ0m_ynS",
        "colab_type": "text"
      },
      "source": [
        "# Tips for choosing an appropriate visualization:"
      ]
    },
    {
      "cell_type": "markdown",
      "metadata": {
        "id": "WtBsVnO4VHiJ",
        "colab_type": "text"
      },
      "source": [
        "## Use Appropriate \"Visual Vocabulary\"\n",
        "\n",
        "[Visual Vocabulary - Vega Edition](http://ft.com/vocabulary)"
      ]
    },
    {
      "cell_type": "markdown",
      "metadata": {
        "id": "H_QM9FHqVT7T",
        "colab_type": "text"
      },
      "source": [
        "## What are the properties of your data?\n",
        "- Is your primary variable of interest continuous or discrete?\n",
        "- Is in wide or long (tidy) format?\n",
        "- Does your visualization involve multiple variables?\n",
        "- How many dimensions do you need to include on your plot?\n",
        "\n",
        "Can you express the main idea of your visualization in a single sentence?\n",
        "\n",
        "How hard does your visualization make the user work in order to draw the intended conclusion?"
      ]
    },
    {
      "cell_type": "markdown",
      "metadata": {
        "id": "5EqXxnJeB89_",
        "colab_type": "text"
      },
      "source": [
        "## Which Visualization tool is most appropriate? \n",
        "\n",
        "[Choosing a Python Visualization Tool flowchart](http://pbpython.com/python-vis-flowchart.html)"
      ]
    },
    {
      "cell_type": "markdown",
      "metadata": {
        "id": "4mDuzLeNn23m",
        "colab_type": "text"
      },
      "source": [
        "## Anatomy of a Matplotlib Plot\n",
        "\n",
        "![Axes vs Axis vs Figure - Matplotlib](https://nbviewer.jupyter.org/github/matplotlib/AnatomyOfMatplotlib/blob/master/images/figure_axes_axis_labeled.png)"
      ]
    },
    {
      "cell_type": "code",
      "metadata": {
        "id": "dCH4bkJwvi50",
        "colab_type": "code",
        "outputId": "271591c8-8a38-424b-abd8-f1289eeb781b",
        "colab": {
          "base_uri": "https://localhost:8080/",
          "height": 195
        }
      },
      "source": [
        "import pandas as pd\n",
        "\n",
        "df = pd.DataFrame({'data': [1,3,2,4,3,5]})\n",
        "\n",
        "df.head()"
      ],
      "execution_count": 0,
      "outputs": [
        {
          "output_type": "execute_result",
          "data": {
            "text/html": [
              "<div>\n",
              "<style scoped>\n",
              "    .dataframe tbody tr th:only-of-type {\n",
              "        vertical-align: middle;\n",
              "    }\n",
              "\n",
              "    .dataframe tbody tr th {\n",
              "        vertical-align: top;\n",
              "    }\n",
              "\n",
              "    .dataframe thead th {\n",
              "        text-align: right;\n",
              "    }\n",
              "</style>\n",
              "<table border=\"1\" class=\"dataframe\">\n",
              "  <thead>\n",
              "    <tr style=\"text-align: right;\">\n",
              "      <th></th>\n",
              "      <th>data</th>\n",
              "    </tr>\n",
              "  </thead>\n",
              "  <tbody>\n",
              "    <tr>\n",
              "      <th>0</th>\n",
              "      <td>1</td>\n",
              "    </tr>\n",
              "    <tr>\n",
              "      <th>1</th>\n",
              "      <td>3</td>\n",
              "    </tr>\n",
              "    <tr>\n",
              "      <th>2</th>\n",
              "      <td>2</td>\n",
              "    </tr>\n",
              "    <tr>\n",
              "      <th>3</th>\n",
              "      <td>4</td>\n",
              "    </tr>\n",
              "    <tr>\n",
              "      <th>4</th>\n",
              "      <td>3</td>\n",
              "    </tr>\n",
              "  </tbody>\n",
              "</table>\n",
              "</div>"
            ],
            "text/plain": [
              "   data\n",
              "0     1\n",
              "1     3\n",
              "2     2\n",
              "3     4\n",
              "4     3"
            ]
          },
          "metadata": {
            "tags": []
          },
          "execution_count": 2
        }
      ]
    },
    {
      "cell_type": "code",
      "metadata": {
        "id": "iLBCpb3jvuCU",
        "colab_type": "code",
        "outputId": "1bf441dd-5a8a-421f-d899-290d528065c4",
        "colab": {
          "base_uri": "https://localhost:8080/",
          "height": 282
        }
      },
      "source": [
        "df['data'].plot()"
      ],
      "execution_count": 0,
      "outputs": [
        {
          "output_type": "execute_result",
          "data": {
            "text/plain": [
              "<matplotlib.axes._subplots.AxesSubplot at 0x7fcf6e0500f0>"
            ]
          },
          "metadata": {
            "tags": []
          },
          "execution_count": 3
        },
        {
          "output_type": "display_data",
          "data": {
            "image/png": "[encoded data removed]",
            "text/plain": [
              "<Figure size 432x288 with 1 Axes>"
            ]
          },
          "metadata": {
            "tags": []
          }
        }
      ]
    },
    {
      "cell_type": "code",
      "metadata": {
        "id": "t4QLIaWCv_IE",
        "colab_type": "code",
        "colab": {
          "base_uri": "https://localhost:8080/",
          "height": 265
        },
        "outputId": "97b0b6b3-76ae-4af5-901f-b3abb99672a1"
      },
      "source": [
        "import matplotlib.pyplot as plt\n",
        "\n",
        "data = [0,3,2,4,5]\n",
        "data2 = [0,2,3,4,7,]\n",
        "#needs plt.show() to show graph outside colab or jypiter notebook\n",
        "plt.plot(data)\n",
        "plt.plot(data2)\n",
        "\n",
        "#does same thing as ;\n",
        "#plt.show() tells the program that you're finished with the graph before it\n",
        "plt.show()"
      ],
      "execution_count": 4,
      "outputs": [
        {
          "output_type": "display_data",
          "data": {
            "image/png": "[encoded data removed]",
            "text/plain": [
              "<Figure size 432x288 with 1 Axes>"
            ]
          },
          "metadata": {
            "tags": []
          }
        }
      ]
    },
    {
      "cell_type": "code",
      "metadata": {
        "id": "h-aIS1Vdn2RR",
        "colab_type": "code",
        "outputId": "c005fbdf-95a7-45de-ad08-5c81ca972711",
        "colab": {
          "base_uri": "https://localhost:8080/",
          "height": 555
        }
      },
      "source": [
        "import numpy as np\n",
        "import matplotlib.pyplot as plt\n",
        "from matplotlib.ticker import AutoMinorLocator, MultipleLocator, FuncFormatter\n",
        "\n",
        "np.random.seed(19680801)\n",
        "\n",
        "X = np.linspace(0.5, 3.5, 100)\n",
        "Y1 = 3+np.cos(X)\n",
        "Y2 = 1+np.cos(1+X/0.75)/2\n",
        "Y3 = np.random.uniform(Y1, Y2, len(X))\n",
        "\n",
        "fig = plt.figure(figsize=(8, 8))\n",
        "ax = fig.add_subplot(1, 1, 1, aspect=1)\n",
        "\n",
        "\n",
        "def minor_tick(x, pos):\n",
        "    if not x % 1.0:\n",
        "        return \"\"\n",
        "    return \"%.2f\" % x\n",
        "\n",
        "ax.xaxis.set_major_locator(MultipleLocator(1.000))\n",
        "ax.xaxis.set_minor_locator(AutoMinorLocator(4))\n",
        "ax.yaxis.set_major_locator(MultipleLocator(1.000))\n",
        "ax.yaxis.set_minor_locator(AutoMinorLocator(4))\n",
        "ax.xaxis.set_minor_formatter(FuncFormatter(minor_tick))\n",
        "\n",
        "ax.set_xlim(0, 4)\n",
        "ax.set_ylim(0, 4)\n",
        "\n",
        "ax.tick_params(which='major', width=1.0)\n",
        "ax.tick_params(which='major', length=10)\n",
        "ax.tick_params(which='minor', width=1.0, labelsize=10)\n",
        "ax.tick_params(which='minor', length=5, labelsize=10, labelcolor='0.25')\n",
        "\n",
        "ax.grid(linestyle=\"--\", linewidth=0.5, color='.25', zorder=-10)\n",
        "\n",
        "ax.plot(X, Y1, c=(0.25, 0.25, 1.00), lw=2, label=\"Blue signal\", zorder=10)\n",
        "ax.plot(X, Y2, c=(1.00, 0.25, 0.25), lw=2, label=\"Red signal\")\n",
        "ax.plot(X, Y3, linewidth=0,\n",
        "        marker='o', markerfacecolor='w', markeredgecolor='k')\n",
        "\n",
        "ax.set_title(\"Anatomy of a figure\", fontsize=20, verticalalignment='bottom')\n",
        "ax.set_xlabel(\"X axis label\")\n",
        "ax.set_ylabel(\"Y axis label\")\n",
        "\n",
        "ax.legend()\n",
        "\n",
        "\n",
        "def circle(x, y, radius=0.15):\n",
        "    from matplotlib.patches import Circle\n",
        "    from matplotlib.patheffects import withStroke\n",
        "    circle = Circle((x, y), radius, clip_on=False, zorder=10, linewidth=1,\n",
        "                    edgecolor='black', facecolor=(0, 0, 0, .0125),\n",
        "                    path_effects=[withStroke(linewidth=5, foreground='w')])\n",
        "    ax.add_artist(circle)\n",
        "\n",
        "\n",
        "def text(x, y, text):\n",
        "    ax.text(x, y, text, backgroundcolor=\"white\",\n",
        "            ha='center', va='top', weight='bold', color='blue')\n",
        "\n",
        "# Minor tick\n",
        "circle(0.50, -0.10)\n",
        "text(0.50, -0.32, \"Minor tick label\")\n",
        "\n",
        "# Major tick\n",
        "circle(-0.03, 4.00)\n",
        "text(0.03, 3.80, \"Major tick\")\n",
        "\n",
        "# Minor tick\n",
        "circle(0.00, 3.50)\n",
        "text(0.00, 3.30, \"Minor tick\")\n",
        "\n",
        "# Major tick label\n",
        "circle(-0.15, 3.00)\n",
        "text(-0.15, 2.80, \"Major tick label\")\n",
        "\n",
        "# X Label\n",
        "circle(1.80, -0.27)\n",
        "text(1.80, -0.45, \"X axis label\")\n",
        "\n",
        "# Y Label\n",
        "circle(-0.27, 1.80)\n",
        "text(-0.27, 1.6, \"Y axis label\")\n",
        "\n",
        "# Title\n",
        "circle(1.60, 4.13)\n",
        "text(1.60, 3.93, \"Title\")\n",
        "\n",
        "# Blue plot\n",
        "circle(1.75, 2.80)\n",
        "text(1.75, 2.60, \"Line\\n(line plot)\")\n",
        "\n",
        "# Red plot\n",
        "circle(1.20, 0.60)\n",
        "text(1.20, 0.40, \"Line\\n(line plot)\")\n",
        "\n",
        "# Scatter plot\n",
        "circle(3.20, 1.75)\n",
        "text(3.20, 1.55, \"Markers\\n(scatter plot)\")\n",
        "\n",
        "# Grid\n",
        "circle(3.00, 3.00)\n",
        "text(3.00, 2.80, \"Grid\")\n",
        "\n",
        "# Legend\n",
        "circle(3.70, 3.80)\n",
        "text(3.70, 3.60, \"Legend\")\n",
        "\n",
        "# Axes\n",
        "circle(0.5, 0.5)\n",
        "text(0.5, 0.3, \"Axes\")\n",
        "\n",
        "# Figure\n",
        "circle(-0.3, 0.65)\n",
        "text(-0.3, 0.45, \"Figure\")\n",
        "\n",
        "color = 'blue'\n",
        "ax.annotate('Spines', xy=(4.0, 0.35), xytext=(3.3, 0.5),\n",
        "            weight='bold', color=color,\n",
        "            arrowprops=dict(arrowstyle='->',\n",
        "                            connectionstyle=\"arc3\",\n",
        "                            color=color))\n",
        "\n",
        "ax.annotate('', xy=(3.15, 0.0), xytext=(3.45, 0.45),\n",
        "            weight='bold', color=color,\n",
        "            arrowprops=dict(arrowstyle='->',\n",
        "                            connectionstyle=\"arc3\",\n",
        "                            color=color))\n",
        "\n",
        "ax.text(4.0, -0.4, \"Made with http://matplotlib.org\",\n",
        "        fontsize=10, ha=\"right\", color='.5')\n",
        "\n",
        "plt.show()"
      ],
      "execution_count": 5,
      "outputs": [
        {
          "output_type": "display_data",
          "data": {
            "image/png": "[encoded data removed]",
            "text/plain": [
              "<Figure size 576x576 with 1 Axes>"
            ]
          },
          "metadata": {
            "tags": []
          }
        }
      ]
    },
    {
      "cell_type": "markdown",
      "metadata": {
        "id": "5_na7Oy3NGKA",
        "colab_type": "text"
      },
      "source": [
        "# Making Explanatory Visualizations with Matplotlib"
      ]
    },
    {
      "cell_type": "markdown",
      "metadata": {
        "id": "ORUwQD6F-VYg",
        "colab_type": "text"
      },
      "source": [
        "Today we will reproduce this [example by FiveThirtyEight:](https://fivethirtyeight.com/features/al-gores-new-movie-exposes-the-big-flaw-in-online-movie-ratings/)\n",
        "\n"
      ]
    },
    {
      "cell_type": "code",
      "metadata": {
        "colab_type": "code",
        "id": "ya_w5WORGs-n",
        "outputId": "73418afd-9743-462a-ab12-5c1b7f4350ce",
        "colab": {
          "base_uri": "https://localhost:8080/",
          "height": 355
        }
      },
      "source": [
        "from IPython.display import display, Image\n",
        "\n",
        "url = 'https://fivethirtyeight.com/wp-content/uploads/2017/09/mehtahickey-inconvenient-0830-1.png'\n",
        "example = Image(url=url, width=400)\n",
        "\n",
        "display(example)"
      ],
      "execution_count": 10,
      "outputs": [
        {
          "output_type": "display_data",
          "data": {
            "text/html": [
              "<img src=\"https://fivethirtyeight.com/wp-content/uploads/2017/09/mehtahickey-inconvenient-0830-1.png\" width=\"400\"/>"
            ],
            "text/plain": [
              "<IPython.core.display.Image object>"
            ]
          },
          "metadata": {
            "tags": []
          }
        }
      ]
    },
    {
      "cell_type": "markdown",
      "metadata": {
        "colab_type": "text",
        "id": "HP4DALiRG3sC"
      },
      "source": [
        "Using this data: https://github.com/fivethirtyeight/data/tree/master/inconvenient-sequel"
      ]
    },
    {
      "cell_type": "markdown",
      "metadata": {
        "colab_type": "text",
        "id": "HioPkYtUG03B"
      },
      "source": [
        "Links\n",
        "- [Strong Titles Are The Biggest Bang for Your Buck](http://stephanieevergreen.com/strong-titles/)\n",
        "- [Remove to improve (the data-ink ratio)](https://www.darkhorseanalytics.com/blog/data-looks-better-naked)\n",
        "- [How to Generate FiveThirtyEight Graphs in Python](https://www.dataquest.io/blog/making-538-plots/)"
      ]
    },
    {
      "cell_type": "markdown",
      "metadata": {
        "colab_type": "text",
        "id": "0w_iMnQ6-VoQ"
      },
      "source": [
        "## Make prototypes\n",
        "\n",
        "This  helps us understand the problem"
      ]
    },
    {
      "cell_type": "code",
      "metadata": {
        "colab_type": "code",
        "id": "5uz0eEaEN-GO",
        "colab": {
          "base_uri": "https://localhost:8080/",
          "height": 268
        },
        "outputId": "810752b0-8c29-43cc-ed7a-4d2a5f6080c9"
      },
      "source": [
        "%matplotlib inline\n",
        "import matplotlib.pyplot as plt\n",
        "import numpy as np\n",
        "import pandas as pd\n",
        "\n",
        "\n",
        "#plt.style.use('fivethirtyeight')\n",
        "\n",
        "fake = pd.Series([38, 3, 2, 1, 2, 4, 6, 5, 5, 33], \n",
        "                 index=range(1,11))\n",
        "\n",
        "fake.plot.bar(color='C1', width=0.9);"
      ],
      "execution_count": 7,
      "outputs": [
        {
          "output_type": "display_data",
          "data": {
            "image/png": "[encoded data removed]",
            "text/plain": [
              "<Figure size 432x288 with 1 Axes>"
            ]
          },
          "metadata": {
            "tags": []
          }
        }
      ]
    },
    {
      "cell_type": "code",
      "metadata": {
        "colab_type": "code",
        "id": "KZ0VLOV8OyRr",
        "colab": {
          "base_uri": "https://localhost:8080/",
          "height": 270
        },
        "outputId": "34c46ffc-9259-4d55-9ce7-068d3d612e2a"
      },
      "source": [
        "fake2 = pd.Series(\n",
        "    [1, 1, 1, 1, 1, 1, 1, 1, 1, 1, 1, 1, 1, 1, 1, 1, 1, 1, 1, 1, 1, 1, 1, 1,\n",
        "     2, 2, 2, \n",
        "     3, 3, 3,\n",
        "     4, 4,\n",
        "     5, 5, 5,\n",
        "     6, 6, 6, 6,\n",
        "     7, 7, 7, 7, 7,\n",
        "     8, 8, 8, 8,\n",
        "     9, 9, 9, 9, \n",
        "     10, 10, 10, 10, 10, 10, 10, 10, 10, 10, 10, 10, 10, 10, 10, 10, 10, 10])\n",
        "\n",
        "fake2.value_counts().sort_index().plot.bar(color='C1', width=0.9);"
      ],
      "execution_count": 8,
      "outputs": [
        {
          "output_type": "display_data",
          "data": {
            "image/png": "[encoded data removed]",
            "text/plain": [
              "<Figure size 432x288 with 1 Axes>"
            ]
          },
          "metadata": {
            "tags": []
          }
        }
      ]
    },
    {
      "cell_type": "markdown",
      "metadata": {
        "colab_type": "text",
        "id": "mZb3UZWO-q05"
      },
      "source": [
        "## Annotate with text"
      ]
    },
    {
      "cell_type": "code",
      "metadata": {
        "colab_type": "code",
        "id": "f6U1vswr_uWp",
        "colab": {
          "base_uri": "https://localhost:8080/",
          "height": 330
        },
        "outputId": "a6a66f3b-735e-40d2-e156-98908eb48481"
      },
      "source": [
        "#always start your plots with this when you're using\n",
        "#figure axes syntax type styling\n",
        "fig, ax = plt.subplots()\n",
        "plt.style.use('fivethirtyeight')\n",
        "\n",
        "ax.bar(height=fake,\n",
        "       x=[1,2,3,4,5,6,7,8,9,10],\n",
        "       color='#ED713A')\n",
        "\n",
        "ax.set_title(\"'An Inconvenient Sequal: Truth To Power' is divisive\", x=.35,\n",
        "             y=1.1,\n",
        "             fontsize=13,\n",
        "             fontweight='bold')\n",
        "# set subtitle\n",
        "ax.text(s='IMDb ratings for the film as of Aug. 29',\n",
        "        x=-1.5,\n",
        "        y=42,\n",
        "        fontsize=10)\n",
        "\n",
        "ax.set_xticks(range(1,11,1))\n",
        "#ax.set_xticks([1,2,3,4,5,6,7,8,9,10])\n",
        "# sets y axis ticks\n",
        "ax.set_yticks(range(0,50,10))\n",
        "# set x label\n",
        "ax.set_xlabel('Rating', color='black', fontsize=11, fontweight='bold')\n",
        "ax.set_xticklabels(range(1,11,1), color='#BDBDBD', fontsize=9)\n",
        "#set y label\n",
        "ax.set_ylabel('Percent of total votes',\n",
        "              color='black',\n",
        "              fontsize=11,\n",
        "              fontweight='bold')\n",
        "#set ytick labels\n",
        "ax.set_yticklabels(['0', '10', '20', '30', '40%'], color='#BDBDBD', fontsize=8)\n",
        "# set figure background color\n",
        "fig.set_facecolor(color='none')\n",
        "#set the axes background color\n",
        "ax.set_facecolor(color='none')\n",
        "\n",
        "#turn off spines(outer edges)\n",
        "ax.spines['left'].set_visible(False)\n",
        "ax.spines['right'].set_visible(False)\n",
        "ax.spines['top'].set_visible(False)\n",
        "ax.spines['bottom'].set_linewidth(1)\n",
        "ax.grid(color='#E1E1E1')\n",
        "plt.show()"
      ],
      "execution_count": 98,
      "outputs": [
        {
          "output_type": "display_data",
          "data": {
            "image/png": "[encoded data removed]",
            "text/plain": [
              "<Figure size 432x288 with 1 Axes>"
            ]
          },
          "metadata": {
            "tags": []
          }
        }
      ]
    },
    {
      "cell_type": "code",
      "metadata": {
        "id": "EwMV1gZlz4j3",
        "colab_type": "code",
        "colab": {
          "base_uri": "https://localhost:8080/",
          "height": 355
        },
        "outputId": "85e573d6-3cc8-4846-8f82-20cc572d6861"
      },
      "source": [
        "display(example)"
      ],
      "execution_count": 11,
      "outputs": [
        {
          "output_type": "display_data",
          "data": {
            "text/html": [
              "<img src=\"https://fivethirtyeight.com/wp-content/uploads/2017/09/mehtahickey-inconvenient-0830-1.png\" width=\"400\"/>"
            ],
            "text/plain": [
              "<IPython.core.display.Image object>"
            ]
          },
          "metadata": {
            "tags": []
          }
        }
      ]
    },
    {
      "cell_type": "markdown",
      "metadata": {
        "colab_type": "text",
        "id": "x8jRZkpB_MJ6"
      },
      "source": [
        "## Reproduce with real data"
      ]
    },
    {
      "cell_type": "code",
      "metadata": {
        "colab_type": "code",
        "id": "3SOHJckDUPI8",
        "colab": {}
      },
      "source": [
        "df = pd.read_csv('https://raw.githubusercontent.com/fivethirtyeight/data/master/presidential-candidate-favorables-2019/favorability_polls_rv_2019.csv')"
      ],
      "execution_count": 0,
      "outputs": []
    },
    {
      "cell_type": "code",
      "metadata": {
        "id": "OPMGo3Eq6cAp",
        "colab_type": "code",
        "colab": {
          "base_uri": "https://localhost:8080/",
          "height": 309
        },
        "outputId": "81e0f3bd-dd12-42e0-ca33-31cc0a320a66"
      },
      "source": [
        "df.head()"
      ],
      "execution_count": 152,
      "outputs": [
        {
          "output_type": "execute_result",
          "data": {
            "text/html": [
              "<div>\n",
              "<style scoped>\n",
              "    .dataframe tbody tr th:only-of-type {\n",
              "        vertical-align: middle;\n",
              "    }\n",
              "\n",
              "    .dataframe tbody tr th {\n",
              "        vertical-align: top;\n",
              "    }\n",
              "\n",
              "    .dataframe thead th {\n",
              "        text-align: right;\n",
              "    }\n",
              "</style>\n",
              "<table border=\"1\" class=\"dataframe\">\n",
              "  <thead>\n",
              "    <tr style=\"text-align: right;\">\n",
              "      <th></th>\n",
              "      <th>question_id</th>\n",
              "      <th>start_date</th>\n",
              "      <th>end_date</th>\n",
              "      <th>pollster_id</th>\n",
              "      <th>pollster</th>\n",
              "      <th>sponsors</th>\n",
              "      <th>sample_size</th>\n",
              "      <th>population</th>\n",
              "      <th>methodology</th>\n",
              "      <th>url</th>\n",
              "      <th>politician</th>\n",
              "      <th>favorable</th>\n",
              "      <th>unfavorable</th>\n",
              "      <th>very_favorable</th>\n",
              "      <th>somewhat_favorable</th>\n",
              "      <th>somewhat_unfavorable</th>\n",
              "      <th>very_unfavorable</th>\n",
              "    </tr>\n",
              "  </thead>\n",
              "  <tbody>\n",
              "    <tr>\n",
              "      <th>0</th>\n",
              "      <td>114577</td>\n",
              "      <td>2019-12-07</td>\n",
              "      <td>2019-12-10</td>\n",
              "      <td>568</td>\n",
              "      <td>YouGov</td>\n",
              "      <td>Economist</td>\n",
              "      <td>1195</td>\n",
              "      <td>rv</td>\n",
              "      <td>Online</td>\n",
              "      <td>https://d25d2506sfb94s.cloudfront.net/cumulus_...</td>\n",
              "      <td>Michael F. Bennet</td>\n",
              "      <td>14.0</td>\n",
              "      <td>29.0</td>\n",
              "      <td>4.0</td>\n",
              "      <td>10.0</td>\n",
              "      <td>12.0</td>\n",
              "      <td>17.0</td>\n",
              "    </tr>\n",
              "    <tr>\n",
              "      <th>1</th>\n",
              "      <td>114585</td>\n",
              "      <td>2019-12-07</td>\n",
              "      <td>2019-12-10</td>\n",
              "      <td>568</td>\n",
              "      <td>YouGov</td>\n",
              "      <td>Economist</td>\n",
              "      <td>1198</td>\n",
              "      <td>rv</td>\n",
              "      <td>Online</td>\n",
              "      <td>https://d25d2506sfb94s.cloudfront.net/cumulus_...</td>\n",
              "      <td>Michael Bloomberg</td>\n",
              "      <td>24.0</td>\n",
              "      <td>58.0</td>\n",
              "      <td>7.0</td>\n",
              "      <td>17.0</td>\n",
              "      <td>20.0</td>\n",
              "      <td>38.0</td>\n",
              "    </tr>\n",
              "    <tr>\n",
              "      <th>2</th>\n",
              "      <td>114589</td>\n",
              "      <td>2019-12-07</td>\n",
              "      <td>2019-12-10</td>\n",
              "      <td>568</td>\n",
              "      <td>YouGov</td>\n",
              "      <td>Economist</td>\n",
              "      <td>1198</td>\n",
              "      <td>rv</td>\n",
              "      <td>Online</td>\n",
              "      <td>https://d25d2506sfb94s.cloudfront.net/cumulus_...</td>\n",
              "      <td>Cory A. Booker</td>\n",
              "      <td>35.0</td>\n",
              "      <td>45.0</td>\n",
              "      <td>11.0</td>\n",
              "      <td>24.0</td>\n",
              "      <td>12.0</td>\n",
              "      <td>33.0</td>\n",
              "    </tr>\n",
              "    <tr>\n",
              "      <th>3</th>\n",
              "      <td>114593</td>\n",
              "      <td>2019-12-07</td>\n",
              "      <td>2019-12-10</td>\n",
              "      <td>568</td>\n",
              "      <td>YouGov</td>\n",
              "      <td>Economist</td>\n",
              "      <td>1198</td>\n",
              "      <td>rv</td>\n",
              "      <td>Online</td>\n",
              "      <td>https://d25d2506sfb94s.cloudfront.net/cumulus_...</td>\n",
              "      <td>Steve Bullock</td>\n",
              "      <td>14.0</td>\n",
              "      <td>27.0</td>\n",
              "      <td>3.0</td>\n",
              "      <td>11.0</td>\n",
              "      <td>11.0</td>\n",
              "      <td>16.0</td>\n",
              "    </tr>\n",
              "    <tr>\n",
              "      <th>4</th>\n",
              "      <td>114597</td>\n",
              "      <td>2019-12-07</td>\n",
              "      <td>2019-12-10</td>\n",
              "      <td>568</td>\n",
              "      <td>YouGov</td>\n",
              "      <td>Economist</td>\n",
              "      <td>1202</td>\n",
              "      <td>rv</td>\n",
              "      <td>Online</td>\n",
              "      <td>https://d25d2506sfb94s.cloudfront.net/cumulus_...</td>\n",
              "      <td>Pete Buttigieg</td>\n",
              "      <td>35.0</td>\n",
              "      <td>44.0</td>\n",
              "      <td>14.0</td>\n",
              "      <td>21.0</td>\n",
              "      <td>13.0</td>\n",
              "      <td>31.0</td>\n",
              "    </tr>\n",
              "  </tbody>\n",
              "</table>\n",
              "</div>"
            ],
            "text/plain": [
              "   question_id  start_date  ... somewhat_unfavorable  very_unfavorable\n",
              "0       114577  2019-12-07  ...                 12.0              17.0\n",
              "1       114585  2019-12-07  ...                 20.0              38.0\n",
              "2       114589  2019-12-07  ...                 12.0              33.0\n",
              "3       114593  2019-12-07  ...                 11.0              16.0\n",
              "4       114597  2019-12-07  ...                 13.0              31.0\n",
              "\n",
              "[5 rows x 17 columns]"
            ]
          },
          "metadata": {
            "tags": []
          },
          "execution_count": 152
        }
      ]
    },
    {
      "cell_type": "code",
      "metadata": {
        "id": "dpu7dl4i7Hpe",
        "colab_type": "code",
        "colab": {
          "base_uri": "https://localhost:8080/",
          "height": 309
        },
        "outputId": "a74d7966-ea06-49bd-d2ef-d2b868ecc45e"
      },
      "source": [
        "last_day = df[df['end_date'] == '2019-12-10']\n",
        "last_day.head()"
      ],
      "execution_count": 153,
      "outputs": [
        {
          "output_type": "execute_result",
          "data": {
            "text/html": [
              "<div>\n",
              "<style scoped>\n",
              "    .dataframe tbody tr th:only-of-type {\n",
              "        vertical-align: middle;\n",
              "    }\n",
              "\n",
              "    .dataframe tbody tr th {\n",
              "        vertical-align: top;\n",
              "    }\n",
              "\n",
              "    .dataframe thead th {\n",
              "        text-align: right;\n",
              "    }\n",
              "</style>\n",
              "<table border=\"1\" class=\"dataframe\">\n",
              "  <thead>\n",
              "    <tr style=\"text-align: right;\">\n",
              "      <th></th>\n",
              "      <th>question_id</th>\n",
              "      <th>start_date</th>\n",
              "      <th>end_date</th>\n",
              "      <th>pollster_id</th>\n",
              "      <th>pollster</th>\n",
              "      <th>sponsors</th>\n",
              "      <th>sample_size</th>\n",
              "      <th>population</th>\n",
              "      <th>methodology</th>\n",
              "      <th>url</th>\n",
              "      <th>politician</th>\n",
              "      <th>favorable</th>\n",
              "      <th>unfavorable</th>\n",
              "      <th>very_favorable</th>\n",
              "      <th>somewhat_favorable</th>\n",
              "      <th>somewhat_unfavorable</th>\n",
              "      <th>very_unfavorable</th>\n",
              "    </tr>\n",
              "  </thead>\n",
              "  <tbody>\n",
              "    <tr>\n",
              "      <th>0</th>\n",
              "      <td>114577</td>\n",
              "      <td>2019-12-07</td>\n",
              "      <td>2019-12-10</td>\n",
              "      <td>568</td>\n",
              "      <td>YouGov</td>\n",
              "      <td>Economist</td>\n",
              "      <td>1195</td>\n",
              "      <td>rv</td>\n",
              "      <td>Online</td>\n",
              "      <td>https://d25d2506sfb94s.cloudfront.net/cumulus_...</td>\n",
              "      <td>Michael F. Bennet</td>\n",
              "      <td>14.0</td>\n",
              "      <td>29.0</td>\n",
              "      <td>4.0</td>\n",
              "      <td>10.0</td>\n",
              "      <td>12.0</td>\n",
              "      <td>17.0</td>\n",
              "    </tr>\n",
              "    <tr>\n",
              "      <th>1</th>\n",
              "      <td>114585</td>\n",
              "      <td>2019-12-07</td>\n",
              "      <td>2019-12-10</td>\n",
              "      <td>568</td>\n",
              "      <td>YouGov</td>\n",
              "      <td>Economist</td>\n",
              "      <td>1198</td>\n",
              "      <td>rv</td>\n",
              "      <td>Online</td>\n",
              "      <td>https://d25d2506sfb94s.cloudfront.net/cumulus_...</td>\n",
              "      <td>Michael Bloomberg</td>\n",
              "      <td>24.0</td>\n",
              "      <td>58.0</td>\n",
              "      <td>7.0</td>\n",
              "      <td>17.0</td>\n",
              "      <td>20.0</td>\n",
              "      <td>38.0</td>\n",
              "    </tr>\n",
              "    <tr>\n",
              "      <th>2</th>\n",
              "      <td>114589</td>\n",
              "      <td>2019-12-07</td>\n",
              "      <td>2019-12-10</td>\n",
              "      <td>568</td>\n",
              "      <td>YouGov</td>\n",
              "      <td>Economist</td>\n",
              "      <td>1198</td>\n",
              "      <td>rv</td>\n",
              "      <td>Online</td>\n",
              "      <td>https://d25d2506sfb94s.cloudfront.net/cumulus_...</td>\n",
              "      <td>Cory A. Booker</td>\n",
              "      <td>35.0</td>\n",
              "      <td>45.0</td>\n",
              "      <td>11.0</td>\n",
              "      <td>24.0</td>\n",
              "      <td>12.0</td>\n",
              "      <td>33.0</td>\n",
              "    </tr>\n",
              "    <tr>\n",
              "      <th>3</th>\n",
              "      <td>114593</td>\n",
              "      <td>2019-12-07</td>\n",
              "      <td>2019-12-10</td>\n",
              "      <td>568</td>\n",
              "      <td>YouGov</td>\n",
              "      <td>Economist</td>\n",
              "      <td>1198</td>\n",
              "      <td>rv</td>\n",
              "      <td>Online</td>\n",
              "      <td>https://d25d2506sfb94s.cloudfront.net/cumulus_...</td>\n",
              "      <td>Steve Bullock</td>\n",
              "      <td>14.0</td>\n",
              "      <td>27.0</td>\n",
              "      <td>3.0</td>\n",
              "      <td>11.0</td>\n",
              "      <td>11.0</td>\n",
              "      <td>16.0</td>\n",
              "    </tr>\n",
              "    <tr>\n",
              "      <th>4</th>\n",
              "      <td>114597</td>\n",
              "      <td>2019-12-07</td>\n",
              "      <td>2019-12-10</td>\n",
              "      <td>568</td>\n",
              "      <td>YouGov</td>\n",
              "      <td>Economist</td>\n",
              "      <td>1202</td>\n",
              "      <td>rv</td>\n",
              "      <td>Online</td>\n",
              "      <td>https://d25d2506sfb94s.cloudfront.net/cumulus_...</td>\n",
              "      <td>Pete Buttigieg</td>\n",
              "      <td>35.0</td>\n",
              "      <td>44.0</td>\n",
              "      <td>14.0</td>\n",
              "      <td>21.0</td>\n",
              "      <td>13.0</td>\n",
              "      <td>31.0</td>\n",
              "    </tr>\n",
              "  </tbody>\n",
              "</table>\n",
              "</div>"
            ],
            "text/plain": [
              "   question_id  start_date  ... somewhat_unfavorable  very_unfavorable\n",
              "0       114577  2019-12-07  ...                 12.0              17.0\n",
              "1       114585  2019-12-07  ...                 20.0              38.0\n",
              "2       114589  2019-12-07  ...                 12.0              33.0\n",
              "3       114593  2019-12-07  ...                 11.0              16.0\n",
              "4       114597  2019-12-07  ...                 13.0              31.0\n",
              "\n",
              "[5 rows x 17 columns]"
            ]
          },
          "metadata": {
            "tags": []
          },
          "execution_count": 153
        }
      ]
    },
    {
      "cell_type": "code",
      "metadata": {
        "id": "2cmDumo67eyv",
        "colab_type": "code",
        "colab": {
          "base_uri": "https://localhost:8080/",
          "height": 340
        },
        "outputId": "4e12c492-9b69-4b73-9fbb-4768e7121c99"
      },
      "source": [
        "last_day.set_index('end_date', inplace=True)\n",
        "last_day.head()"
      ],
      "execution_count": 154,
      "outputs": [
        {
          "output_type": "execute_result",
          "data": {
            "text/html": [
              "<div>\n",
              "<style scoped>\n",
              "    .dataframe tbody tr th:only-of-type {\n",
              "        vertical-align: middle;\n",
              "    }\n",
              "\n",
              "    .dataframe tbody tr th {\n",
              "        vertical-align: top;\n",
              "    }\n",
              "\n",
              "    .dataframe thead th {\n",
              "        text-align: right;\n",
              "    }\n",
              "</style>\n",
              "<table border=\"1\" class=\"dataframe\">\n",
              "  <thead>\n",
              "    <tr style=\"text-align: right;\">\n",
              "      <th></th>\n",
              "      <th>question_id</th>\n",
              "      <th>start_date</th>\n",
              "      <th>pollster_id</th>\n",
              "      <th>pollster</th>\n",
              "      <th>sponsors</th>\n",
              "      <th>sample_size</th>\n",
              "      <th>population</th>\n",
              "      <th>methodology</th>\n",
              "      <th>url</th>\n",
              "      <th>politician</th>\n",
              "      <th>favorable</th>\n",
              "      <th>unfavorable</th>\n",
              "      <th>very_favorable</th>\n",
              "      <th>somewhat_favorable</th>\n",
              "      <th>somewhat_unfavorable</th>\n",
              "      <th>very_unfavorable</th>\n",
              "    </tr>\n",
              "    <tr>\n",
              "      <th>end_date</th>\n",
              "      <th></th>\n",
              "      <th></th>\n",
              "      <th></th>\n",
              "      <th></th>\n",
              "      <th></th>\n",
              "      <th></th>\n",
              "      <th></th>\n",
              "      <th></th>\n",
              "      <th></th>\n",
              "      <th></th>\n",
              "      <th></th>\n",
              "      <th></th>\n",
              "      <th></th>\n",
              "      <th></th>\n",
              "      <th></th>\n",
              "      <th></th>\n",
              "    </tr>\n",
              "  </thead>\n",
              "  <tbody>\n",
              "    <tr>\n",
              "      <th>2019-12-10</th>\n",
              "      <td>114577</td>\n",
              "      <td>2019-12-07</td>\n",
              "      <td>568</td>\n",
              "      <td>YouGov</td>\n",
              "      <td>Economist</td>\n",
              "      <td>1195</td>\n",
              "      <td>rv</td>\n",
              "      <td>Online</td>\n",
              "      <td>https://d25d2506sfb94s.cloudfront.net/cumulus_...</td>\n",
              "      <td>Michael F. Bennet</td>\n",
              "      <td>14.0</td>\n",
              "      <td>29.0</td>\n",
              "      <td>4.0</td>\n",
              "      <td>10.0</td>\n",
              "      <td>12.0</td>\n",
              "      <td>17.0</td>\n",
              "    </tr>\n",
              "    <tr>\n",
              "      <th>2019-12-10</th>\n",
              "      <td>114585</td>\n",
              "      <td>2019-12-07</td>\n",
              "      <td>568</td>\n",
              "      <td>YouGov</td>\n",
              "      <td>Economist</td>\n",
              "      <td>1198</td>\n",
              "      <td>rv</td>\n",
              "      <td>Online</td>\n",
              "      <td>https://d25d2506sfb94s.cloudfront.net/cumulus_...</td>\n",
              "      <td>Michael Bloomberg</td>\n",
              "      <td>24.0</td>\n",
              "      <td>58.0</td>\n",
              "      <td>7.0</td>\n",
              "      <td>17.0</td>\n",
              "      <td>20.0</td>\n",
              "      <td>38.0</td>\n",
              "    </tr>\n",
              "    <tr>\n",
              "      <th>2019-12-10</th>\n",
              "      <td>114589</td>\n",
              "      <td>2019-12-07</td>\n",
              "      <td>568</td>\n",
              "      <td>YouGov</td>\n",
              "      <td>Economist</td>\n",
              "      <td>1198</td>\n",
              "      <td>rv</td>\n",
              "      <td>Online</td>\n",
              "      <td>https://d25d2506sfb94s.cloudfront.net/cumulus_...</td>\n",
              "      <td>Cory A. Booker</td>\n",
              "      <td>35.0</td>\n",
              "      <td>45.0</td>\n",
              "      <td>11.0</td>\n",
              "      <td>24.0</td>\n",
              "      <td>12.0</td>\n",
              "      <td>33.0</td>\n",
              "    </tr>\n",
              "    <tr>\n",
              "      <th>2019-12-10</th>\n",
              "      <td>114593</td>\n",
              "      <td>2019-12-07</td>\n",
              "      <td>568</td>\n",
              "      <td>YouGov</td>\n",
              "      <td>Economist</td>\n",
              "      <td>1198</td>\n",
              "      <td>rv</td>\n",
              "      <td>Online</td>\n",
              "      <td>https://d25d2506sfb94s.cloudfront.net/cumulus_...</td>\n",
              "      <td>Steve Bullock</td>\n",
              "      <td>14.0</td>\n",
              "      <td>27.0</td>\n",
              "      <td>3.0</td>\n",
              "      <td>11.0</td>\n",
              "      <td>11.0</td>\n",
              "      <td>16.0</td>\n",
              "    </tr>\n",
              "    <tr>\n",
              "      <th>2019-12-10</th>\n",
              "      <td>114597</td>\n",
              "      <td>2019-12-07</td>\n",
              "      <td>568</td>\n",
              "      <td>YouGov</td>\n",
              "      <td>Economist</td>\n",
              "      <td>1202</td>\n",
              "      <td>rv</td>\n",
              "      <td>Online</td>\n",
              "      <td>https://d25d2506sfb94s.cloudfront.net/cumulus_...</td>\n",
              "      <td>Pete Buttigieg</td>\n",
              "      <td>35.0</td>\n",
              "      <td>44.0</td>\n",
              "      <td>14.0</td>\n",
              "      <td>21.0</td>\n",
              "      <td>13.0</td>\n",
              "      <td>31.0</td>\n",
              "    </tr>\n",
              "  </tbody>\n",
              "</table>\n",
              "</div>"
            ],
            "text/plain": [
              "            question_id  start_date  ...  somewhat_unfavorable very_unfavorable\n",
              "end_date                             ...                                       \n",
              "2019-12-10       114577  2019-12-07  ...                  12.0             17.0\n",
              "2019-12-10       114585  2019-12-07  ...                  20.0             38.0\n",
              "2019-12-10       114589  2019-12-07  ...                  12.0             33.0\n",
              "2019-12-10       114593  2019-12-07  ...                  11.0             16.0\n",
              "2019-12-10       114597  2019-12-07  ...                  13.0             31.0\n",
              "\n",
              "[5 rows x 16 columns]"
            ]
          },
          "metadata": {
            "tags": []
          },
          "execution_count": 154
        }
      ]
    },
    {
      "cell_type": "code",
      "metadata": {
        "id": "wTqnrkwr8INP",
        "colab_type": "code",
        "colab": {
          "base_uri": "https://localhost:8080/",
          "height": 436
        },
        "outputId": "6812bb21-9208-482b-fcb6-b0f35b9e131b"
      },
      "source": [
        "fig, ax = plt.subplots()\n",
        "\n",
        "ax.set_title('Favorability of politicians')\n",
        "ax.set_ylabel('Percentage', fontsize=10,)\n",
        "ax.set_xticklabels(last_day['politician'], rotation=90)\n",
        "ax.bar(x=last_day['politician'], height=last_day['favorable'])\n",
        "plt.show()"
      ],
      "execution_count": 223,
      "outputs": [
        {
          "output_type": "display_data",
          "data": {
            "image/png": "[encoded data removed]",
            "text/plain": [
              "<Figure size 432x288 with 1 Axes>"
            ]
          },
          "metadata": {
            "tags": []
          }
        }
      ]
    },
    {
      "cell_type": "code",
      "metadata": {
        "id": "BoVniTz6Am4J",
        "colab_type": "code",
        "colab": {
          "base_uri": "https://localhost:8080/",
          "height": 221
        },
        "outputId": "f31ed4e6-c476-4392-e63c-93e724ca4411"
      },
      "source": [
        "df2 = pd.read_csv('https://raw.githubusercontent.com/fivethirtyeight/data/master/mueller-polls/mueller-approval-polls.csv')\n",
        "print(df2.shape)\n",
        "df2.head()"
      ],
      "execution_count": 172,
      "outputs": [
        {
          "output_type": "stream",
          "text": [
            "(65, 12)\n"
          ],
          "name": "stdout"
        },
        {
          "output_type": "execute_result",
          "data": {
            "text/html": [
              "<div>\n",
              "<style scoped>\n",
              "    .dataframe tbody tr th:only-of-type {\n",
              "        vertical-align: middle;\n",
              "    }\n",
              "\n",
              "    .dataframe tbody tr th {\n",
              "        vertical-align: top;\n",
              "    }\n",
              "\n",
              "    .dataframe thead th {\n",
              "        text-align: right;\n",
              "    }\n",
              "</style>\n",
              "<table border=\"1\" class=\"dataframe\">\n",
              "  <thead>\n",
              "    <tr style=\"text-align: right;\">\n",
              "      <th></th>\n",
              "      <th>Start</th>\n",
              "      <th>End</th>\n",
              "      <th>Pollster</th>\n",
              "      <th>Sample Size</th>\n",
              "      <th>Population</th>\n",
              "      <th>Text</th>\n",
              "      <th>Approve</th>\n",
              "      <th>Disapprove</th>\n",
              "      <th>Unsure</th>\n",
              "      <th>Approve (Republican)</th>\n",
              "      <th>Approve (Democrat)</th>\n",
              "      <th>Url</th>\n",
              "    </tr>\n",
              "  </thead>\n",
              "  <tbody>\n",
              "    <tr>\n",
              "      <th>0</th>\n",
              "      <td>7/15/18</td>\n",
              "      <td>7/17/17</td>\n",
              "      <td>YouGov/Economist</td>\n",
              "      <td>1500</td>\n",
              "      <td>a</td>\n",
              "      <td>Do you approve or disapprove of the way Robert...</td>\n",
              "      <td>37</td>\n",
              "      <td>30</td>\n",
              "      <td>33</td>\n",
              "      <td>17</td>\n",
              "      <td>62</td>\n",
              "      <td>https://d25d2506sfb94s.cloudfront.net/cumulus_...</td>\n",
              "    </tr>\n",
              "    <tr>\n",
              "      <th>1</th>\n",
              "      <td>7/20/17</td>\n",
              "      <td>7/24/17</td>\n",
              "      <td>Morning Consult</td>\n",
              "      <td>3981</td>\n",
              "      <td>rv</td>\n",
              "      <td>As you may know, the U.S. Department of Justic...</td>\n",
              "      <td>40</td>\n",
              "      <td>27</td>\n",
              "      <td>33</td>\n",
              "      <td>31</td>\n",
              "      <td>53</td>\n",
              "      <td>https://morningconsult.com/wp-content/uploads/...</td>\n",
              "    </tr>\n",
              "    <tr>\n",
              "      <th>2</th>\n",
              "      <td>10/30/17</td>\n",
              "      <td>10/31/17</td>\n",
              "      <td>YouGov/HuffPost</td>\n",
              "      <td>1000</td>\n",
              "      <td>a</td>\n",
              "      <td>Do you approve or disapprove of the way Robert...</td>\n",
              "      <td>39</td>\n",
              "      <td>26</td>\n",
              "      <td>34</td>\n",
              "      <td>25</td>\n",
              "      <td>60</td>\n",
              "      <td>http://big.assets.huffingtonpost.com/tabsHPRus...</td>\n",
              "    </tr>\n",
              "    <tr>\n",
              "      <th>3</th>\n",
              "      <td>10/29/17</td>\n",
              "      <td>11/1/17</td>\n",
              "      <td>Washington Post/ABC News</td>\n",
              "      <td>1005</td>\n",
              "      <td>a</td>\n",
              "      <td>A special counsel at the U.S. Justice Departme...</td>\n",
              "      <td>58</td>\n",
              "      <td>28</td>\n",
              "      <td>14</td>\n",
              "      <td>38</td>\n",
              "      <td>78</td>\n",
              "      <td>https://www.washingtonpost.com/politics/pollin...</td>\n",
              "    </tr>\n",
              "    <tr>\n",
              "      <th>4</th>\n",
              "      <td>12/1/17</td>\n",
              "      <td>12/2/17</td>\n",
              "      <td>YouGov/HuffPost</td>\n",
              "      <td>1000</td>\n",
              "      <td>a</td>\n",
              "      <td>Do you approve or disapprove of the way Robert...</td>\n",
              "      <td>36</td>\n",
              "      <td>28</td>\n",
              "      <td>35</td>\n",
              "      <td>17</td>\n",
              "      <td>58</td>\n",
              "      <td>http://big.assets.huffingtonpost.com/tabsHPMic...</td>\n",
              "    </tr>\n",
              "  </tbody>\n",
              "</table>\n",
              "</div>"
            ],
            "text/plain": [
              "      Start  ...                                                Url\n",
              "0   7/15/18  ...  https://d25d2506sfb94s.cloudfront.net/cumulus_...\n",
              "1   7/20/17  ...  https://morningconsult.com/wp-content/uploads/...\n",
              "2  10/30/17  ...  http://big.assets.huffingtonpost.com/tabsHPRus...\n",
              "3  10/29/17  ...  https://www.washingtonpost.com/politics/pollin...\n",
              "4   12/1/17  ...  http://big.assets.huffingtonpost.com/tabsHPMic...\n",
              "\n",
              "[5 rows x 12 columns]"
            ]
          },
          "metadata": {
            "tags": []
          },
          "execution_count": 172
        }
      ]
    },
    {
      "cell_type": "code",
      "metadata": {
        "id": "oScjtpxpBQMF",
        "colab_type": "code",
        "colab": {}
      },
      "source": [
        "df2['End'] = pd.to_datetime(df2['End'])"
      ],
      "execution_count": 0,
      "outputs": []
    },
    {
      "cell_type": "markdown",
      "metadata": {
        "id": "rKU2kb6vTCl-",
        "colab_type": "text"
      },
      "source": [
        "https://fivethirtyeight.com/features/both-parties-think-the-mueller-report-was-fair-they-just-disagree-on-what-it-says/ (original webpage)"
      ]
    },
    {
      "cell_type": "code",
      "metadata": {
        "id": "SkgABcf1Dp5u",
        "colab_type": "code",
        "colab": {
          "base_uri": "https://localhost:8080/",
          "height": 345
        },
        "outputId": "2e856fa2-da51-47fd-f236-8a742fdddee4"
      },
      "source": [
        "fig, ax = plt.subplots()\n",
        "#setting the title of the graph\n",
        "ax.set_title('A lot more Republicans approve of Mueller now', x=0.5, y=1.2)\n",
        "#no matter where i try ax.text it doesn't show up and i get\n",
        "#ValueError: Image size of 355189x328 pixels is too large.\n",
        "#It must be less than 2^16 in each direction.\n",
        "fig.set_facecolor(color='#F0F0F0')\n",
        "ax.set_facecolor(color='#F0F0F0')\n",
        "#setting the upper limit for the graph to match\n",
        "ax.set_ylim(ymax=100)\n",
        "ax.set_yticks(range(0, 125,25))\n",
        "#setting labels for the y axis\n",
        "ax.set_yticklabels(['0', '25,','50','75', '100%'], color='grey')\n",
        "#setting labels for the x axis\n",
        "ax.set_xticklabels([' ', 'OCT. 17', 'JAN. 18', 'APRIL', \n",
        "                    'JULY', 'OCT', 'JAN. 19', 'APRIL'], color='grey',\n",
        "                    fontsize=10)\n",
        "ax.spines['bottom'].set_visible(True)\n",
        "ax.spines['top'].set_visible(True)\n",
        "ax.scatter(x= df2['End'], y=df2['Approve (Republican)'], c='red', alpha=0.4)\n",
        "ax.scatter(x= df2['End'], y=df2['Approve (Democrat)'], c='#84C0E7', alpha=0.4)\n",
        "plt.show()"
      ],
      "execution_count": 278,
      "outputs": [
        {
          "output_type": "display_data",
          "data": {
            "image/png": "[encoded data removed]",
            "text/plain": [
              "<Figure size 432x288 with 1 Axes>"
            ]
          },
          "metadata": {
            "tags": []
          }
        }
      ]
    }
  ]
}